{
 "cells": [
  {
   "cell_type": "code",
   "execution_count": 23,
   "metadata": {
    "ExecuteTime": {
     "end_time": "2019-12-18T06:01:56.263558Z",
     "start_time": "2019-12-18T06:01:51.717351Z"
    }
   },
   "outputs": [
    {
     "name": "stderr",
     "output_type": "stream",
     "text": [
      "100%|██████████| 331/331 [01:04<00:00,  5.10it/s]"
     ]
    },
    {
     "name": "stdout",
     "output_type": "stream",
     "text": [
      "FINISH DATA PREPROCESSING!!!\n"
     ]
    },
    {
     "name": "stderr",
     "output_type": "stream",
     "text": [
      "\n"
     ]
    }
   ],
   "source": [
    "import os\n",
    "import librosa\n",
    "from tqdm import tqdm\n",
    "import torch\n",
    "import numpy as np\n",
    "import codecs\n",
    "from utils.text2seq import text2seq\n",
    "from layers import TacotronSTFT\n",
    "import hparams as hp\n",
    "\n",
    "'''\n",
    "Data preparation params:\n",
    "-> csv_file, root_dir, data_dir\n",
    "-> In hparams:\n",
    "    -> sampling_rate\n",
    "-> text2seq (phonemizer)\n",
    "'''\n",
    "\n",
    "csv_file = '-DEV/datasets/TITML-IDN-F01-22kHz/metadata.csv'\n",
    "root_dir = '-DEV/datasets/TITML-IDN-F01-22kHz/wavs'\n",
    "data_dir = '-DEV/datasets/TITML-IDN-F01-22kHz/preprocess_melTAC_phonEN'\n",
    "\n",
    "os.makedirs(data_dir, exist_ok = True)\n",
    "\n",
    "stft = TacotronSTFT()\n",
    "def get_mel(filename):\n",
    "    wav, sr = librosa.load(filename, sr=hp.sampling_rate)\n",
    "    wav = torch.FloatTensor(wav.astype(np.float32))\n",
    "    \n",
    "    ### trimming ###\n",
    "    try:\n",
    "        start = torch.where(torch.abs(wav)>(torch.abs(wav).max()*0.05))[0][0]\n",
    "        end = torch.where(torch.abs(wav)>(torch.abs(wav).max()*0.05))[0][-1]\n",
    "    except:\n",
    "        pass\n",
    "    \n",
    "    ### 50ms silence padding ###\n",
    "    wav = torch.nn.functional.pad(wav[start:end], (0, hp.sampling_rate//20))\n",
    "    ### Wav -> Mel conversion ###\n",
    "    melspec = stft.mel_spectrogram(wav.unsqueeze(0))\n",
    "    \n",
    "    return melspec.squeeze(0), wav\n",
    "\n",
    "\n",
    "if not os.path.exists(f'{data_dir}'):\n",
    "    os.mkdir(f'{data_dir}')\n",
    "if not os.path.exists(f'{data_dir}/phone_seq'):\n",
    "    os.mkdir(f'{data_dir}/phone_seq')\n",
    "if not os.path.exists(f'{data_dir}/melspectrogram'):\n",
    "    os.mkdir(f'{data_dir}/melspectrogram')\n",
    "\n",
    "\n",
    "with codecs.open(csv_file, 'r', 'utf-8') as f:\n",
    "    for line in tqdm(f.readlines()):\n",
    "        fname, _, text = line.split(\"|\")\n",
    "        wav_name = os.path.join(root_dir, fname) + '.wav'\n",
    "        phone_seq = text2seq(text)\n",
    "        melspec, wav = get_mel(wav_name)\n",
    "        np.save(f'{data_dir}/phone_seq/{fname}_sequence.npy', phone_seq)\n",
    "        np.save(f'{data_dir}/melspectrogram/{fname}_melspectrogram.npy', melspec.numpy())\n",
    "    \n",
    "print(\"FINISH DATA PREPROCESSING!!!\")"
   ]
  },
  {
   "cell_type": "markdown",
   "metadata": {},
   "source": [
    "### Split Train, Val, Test"
   ]
  },
  {
   "cell_type": "code",
   "execution_count": 26,
   "metadata": {},
   "outputs": [],
   "source": [
    "metadata = np.loadtxt(csv_file, delimiter = '|', dtype = str)"
   ]
  },
  {
   "cell_type": "code",
   "execution_count": 33,
   "metadata": {},
   "outputs": [
    {
     "data": {
      "text/plain": [
       "(316, 15)"
      ]
     },
     "execution_count": 33,
     "metadata": {},
     "output_type": "execute_result"
    }
   ],
   "source": [
    "num_val = 15\n",
    "num_train = metadata.shape[0] - num_val\n",
    "num_train, num_val"
   ]
  },
  {
   "cell_type": "code",
   "execution_count": 52,
   "metadata": {},
   "outputs": [],
   "source": [
    "indices = np.random.choice([i for i in range(0, len(metadata))], size = len(metadata), replace = False)"
   ]
  },
  {
   "cell_type": "code",
   "execution_count": 55,
   "metadata": {},
   "outputs": [
    {
     "data": {
      "text/plain": [
       "(316, 15)"
      ]
     },
     "execution_count": 55,
     "metadata": {},
     "output_type": "execute_result"
    }
   ],
   "source": [
    "train_indices = indices[:num_train]\n",
    "val_indices = indices[num_train:]\n",
    "len(train_indices), len(val_indices)"
   ]
  },
  {
   "cell_type": "code",
   "execution_count": 57,
   "metadata": {},
   "outputs": [],
   "source": [
    "train_files = metadata[train_indices, :]\n",
    "val_files = metadata[val_indices, :]"
   ]
  },
  {
   "cell_type": "code",
   "execution_count": 63,
   "metadata": {},
   "outputs": [],
   "source": [
    "np.savetxt('filelists/TITML-IDN-F01-trainfiles.txt', train_files, fmt = '%s', delimiter = '|')\n",
    "np.savetxt('filelists/TITML-IDN-F01-valfiles.txt', val_files, fmt = '%s', delimiter = '|')"
   ]
  },
  {
   "cell_type": "code",
   "execution_count": null,
   "metadata": {},
   "outputs": [],
   "source": []
  }
 ],
 "metadata": {
  "kernelspec": {
   "display_name": "Hugsy",
   "language": "python",
   "name": "hugsy"
  },
  "language_info": {
   "codemirror_mode": {
    "name": "ipython",
    "version": 3
   },
   "file_extension": ".py",
   "mimetype": "text/x-python",
   "name": "python",
   "nbconvert_exporter": "python",
   "pygments_lexer": "ipython3",
   "version": "3.8.8"
  },
  "varInspector": {
   "cols": {
    "lenName": 16,
    "lenType": 16,
    "lenVar": 40
   },
   "kernels_config": {
    "python": {
     "delete_cmd_postfix": "",
     "delete_cmd_prefix": "del ",
     "library": "var_list.py",
     "varRefreshCmd": "print(var_dic_list())"
    },
    "r": {
     "delete_cmd_postfix": ") ",
     "delete_cmd_prefix": "rm(",
     "library": "var_list.r",
     "varRefreshCmd": "cat(var_dic_list()) "
    }
   },
   "types_to_exclude": [
    "module",
    "function",
    "builtin_function_or_method",
    "instance",
    "_Feature"
   ],
   "window_display": false
  }
 },
 "nbformat": 4,
 "nbformat_minor": 4
}
